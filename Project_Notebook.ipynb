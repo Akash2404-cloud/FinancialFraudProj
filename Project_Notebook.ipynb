{
  "nbformat": 4,
  "nbformat_minor": 0,
  "metadata": {
    "colab": {
      "private_outputs": true,
      "provenance": [],
      "gpuType": "T4"
    },
    "kernelspec": {
      "name": "python3",
      "display_name": "Python 3"
    },
    "language_info": {
      "name": "python"
    },
    "accelerator": "GPU"
  },
  "cells": [
    {
      "cell_type": "code",
      "execution_count": null,
      "metadata": {
        "id": "l-ieCtg7ezco"
      },
      "outputs": [],
      "source": [
        "import numpy as np\n",
        "import pandas as pd\n",
        "import seaborn as snb\n",
        "import matplotlib.pyplot as plt\n",
        "from sklearn.preprocessing import OneHotEncoder\n",
        "from sklearn.model_selection import StratifiedKFold , cross_val_score\n",
        "from sklearn.linear_model import LogisticRegression\n",
        "from sklearn.svm import SVC\n",
        "from sklearn.model_selection import train_test_split\n",
        "from sklearn.ensemble import RandomForestClassifier , BaggingClassifier\n",
        "from imblearn.under_sampling import RandomUnderSampler\n",
        "from imblearn.over_sampling import RandomOverSampler\n",
        "from imblearn.over_sampling import SMOTE\n",
        "from imblearn.combine import SMOTETomek\n",
        "from sklearn.metrics import classification_report , ConfusionMatrixDisplay , \\\n",
        " confusion_matrix , recall_score , f1_score , precision_score , roc_auc_score , accuracy_score\n",
        "from imblearn.under_sampling import TomekLinks , OneSidedSelection\n",
        "snb.set_style('darkgrid')"
      ]
    },
    {
      "cell_type": "code",
      "source": [
        "df = pd.read_csv('/content/Fraud.csv', nrows = 2500000)\n",
        "df.sample(10)"
      ],
      "metadata": {
        "id": "Wq2aS-IFe-D6"
      },
      "execution_count": null,
      "outputs": []
    },
    {
      "cell_type": "markdown",
      "source": [
        "# Analysis of the data"
      ],
      "metadata": {
        "id": "zE1nopp0gSrG"
      }
    },
    {
      "cell_type": "markdown",
      "source": [
        "## Checking for the duplicate records , null values"
      ],
      "metadata": {
        "id": "JRj4huNqMPpp"
      }
    },
    {
      "cell_type": "code",
      "source": [
        "df.info()"
      ],
      "metadata": {
        "id": "M17uKbV_TZ_d"
      },
      "execution_count": null,
      "outputs": []
    },
    {
      "cell_type": "code",
      "source": [
        "df.dtypes"
      ],
      "metadata": {
        "id": "rcTnxCpYBflo"
      },
      "execution_count": null,
      "outputs": []
    },
    {
      "cell_type": "code",
      "source": [
        "# dropping duplicates\n",
        "df.drop_duplicates()\n",
        "\n",
        "# dealing with the null values and dropping the null values\n",
        "print(df.isnull().sum())\n",
        "df.dropna(inplace = True)\n",
        "\n",
        "print('Shape of the dataframe is {}'.format(df.shape))"
      ],
      "metadata": {
        "id": "AtyX8_AqfrCl"
      },
      "execution_count": null,
      "outputs": []
    },
    {
      "cell_type": "markdown",
      "source": [
        "## Summary of dataset"
      ],
      "metadata": {
        "id": "9S6cOrMJ7TUq"
      }
    },
    {
      "cell_type": "code",
      "source": [
        "summary_df = df.iloc[:,:-2].merge(df[['isFraud' , 'isFlaggedFraud']].astype('object') , left_index = True , right_index = True)"
      ],
      "metadata": {
        "id": "u69pwUH6Tfqe"
      },
      "execution_count": null,
      "outputs": []
    },
    {
      "cell_type": "code",
      "source": [
        "summary_df.select_dtypes(['int' , 'float']).describe().round(2)"
      ],
      "metadata": {
        "id": "r-efH0fU7DwS"
      },
      "execution_count": null,
      "outputs": []
    },
    {
      "cell_type": "code",
      "source": [
        "summary_df.select_dtypes(['object']).describe()"
      ],
      "metadata": {
        "id": "FOpMjyHu7Me0"
      },
      "execution_count": null,
      "outputs": []
    },
    {
      "cell_type": "code",
      "source": [
        "# CORRELATION MATRIX\n",
        "f, ax = plt.subplots(figsize=(8,4))\n",
        "snb.heatmap(df.corr(), annot=True, fmt='.2f')\n",
        "plt.show()"
      ],
      "metadata": {
        "id": "qPXkM3naJWiK"
      },
      "execution_count": null,
      "outputs": []
    },
    {
      "cell_type": "code",
      "source": [
        "snb.countplot(data = df , x = 'type')"
      ],
      "metadata": {
        "id": "tpZw2lFclLXT"
      },
      "execution_count": null,
      "outputs": []
    },
    {
      "cell_type": "markdown",
      "source": [
        "It can be seen that most of the transactions are of type payments and least amount of payments are of type debit."
      ],
      "metadata": {
        "id": "pVxllcyx1DLL"
      }
    },
    {
      "cell_type": "code",
      "source": [
        "print( 'Percentage of transactions where initial balance is 0 = {}%'.format((df.query('oldbalanceOrg == 0').shape[0] * 100) / df.shape[0]))\n",
        "print( 'Percentage of transactions where final balance is 0 = {}%'.format((df.query('newbalanceDest == 0').shape[0] * 100) / df.shape[0]))"
      ],
      "metadata": {
        "id": "IeacU8yz-6lL"
      },
      "execution_count": null,
      "outputs": []
    },
    {
      "cell_type": "code",
      "source": [
        "df[df.amount == 0]"
      ],
      "metadata": {
        "id": "Wii919zHrR-a"
      },
      "execution_count": null,
      "outputs": []
    },
    {
      "cell_type": "code",
      "source": [
        "print('Number of valid and fraud transactions :')\n",
        "print('Number of valid transactions = {}'.format(df['isFraud'].value_counts()[0]))\n",
        "print('Number of fraud transactions = {}'.format(df['isFraud'].value_counts()[1]))\n",
        "df['isFraud'].value_counts().plot.pie(autopct='%1.2f%%');"
      ],
      "metadata": {
        "id": "ycpe3XcFjpy_"
      },
      "execution_count": null,
      "outputs": []
    },
    {
      "cell_type": "markdown",
      "source": [
        "Only 0.09% of transactions are fraud transactions. This creates an imbalance in dataset thus making the predictive modelling difficult."
      ],
      "metadata": {
        "id": "Vq0aJ9UX1Xm8"
      }
    },
    {
      "cell_type": "code",
      "source": [
        "snb.boxplot(data = df , x = 'isFraud' , y = 'amount')"
      ],
      "metadata": {
        "id": "m8B8CpgenVD_"
      },
      "execution_count": null,
      "outputs": []
    },
    {
      "cell_type": "markdown",
      "source": [
        "Fraud transactions involve large amount as compared to the valid transactions."
      ],
      "metadata": {
        "id": "Fp__q6oESSWK"
      }
    },
    {
      "cell_type": "code",
      "source": [
        "snb.stripplot(data = df , x = 'type' , y = 'amount' , hue = 'isFraud')"
      ],
      "metadata": {
        "id": "_eYKz0vHlrIV"
      },
      "execution_count": null,
      "outputs": []
    },
    {
      "cell_type": "markdown",
      "source": [
        "Transfer and Cash out mode of payments are responsible for the transactions involving the large amounts. While other mode of payments account for small amount transactions."
      ],
      "metadata": {
        "id": "LlT5O2qp1yOg"
      }
    },
    {
      "cell_type": "markdown",
      "source": [
        "## Analyzing only fraud transactions"
      ],
      "metadata": {
        "id": "mBcWTxGmSxtH"
      }
    },
    {
      "cell_type": "code",
      "source": [
        "fraud_df = df.query('isFraud == 1')"
      ],
      "metadata": {
        "id": "t_-NChMVfq9Q"
      },
      "execution_count": null,
      "outputs": []
    },
    {
      "cell_type": "code",
      "source": [
        "print('Frequency of the modes of fraudulent transactions :')\n",
        "fraud_df.type.value_counts()"
      ],
      "metadata": {
        "id": "SZ0uQiSVqfLZ"
      },
      "execution_count": null,
      "outputs": []
    },
    {
      "cell_type": "code",
      "source": [
        "plt.title('Type of transactions that are fraud');\n",
        "snb.countplot(data = fraud_df , x = 'type')"
      ],
      "metadata": {
        "id": "r8DOaW6Sfq6p"
      },
      "execution_count": null,
      "outputs": []
    },
    {
      "cell_type": "markdown",
      "source": [
        "The fraud transactions are carried out only through the transfer and cash out mode of payment."
      ],
      "metadata": {
        "id": "ZrpxeO_82F1H"
      }
    },
    {
      "cell_type": "code",
      "source": [
        "snb.boxplot(data = fraud_df , x = 'type' , y = 'amount')"
      ],
      "metadata": {
        "id": "BCaZU9MQfq37"
      },
      "execution_count": null,
      "outputs": []
    },
    {
      "cell_type": "markdown",
      "source": [
        "Transfers mode of payment involves large amount transactions as compared to Cash_out mode of payment."
      ],
      "metadata": {
        "id": "16dt1MuJS_aA"
      }
    },
    {
      "cell_type": "markdown",
      "source": [
        "# Preparing dataset for Modelling"
      ],
      "metadata": {
        "id": "nRzyquMvfe4v"
      }
    },
    {
      "cell_type": "code",
      "source": [
        "cash_out = 'CASH_OUT'\n",
        "transfer = 'TRANSFER'\n",
        "model_df = df.query('type == @cash_out or type == @transfer ')\n",
        "model_df.sample(5)"
      ],
      "metadata": {
        "id": "HZ3k6lnFIcTX"
      },
      "execution_count": null,
      "outputs": []
    },
    {
      "cell_type": "code",
      "source": [
        "model_df.isFraud.value_counts()"
      ],
      "metadata": {
        "id": "ZoP70dOvQeqN"
      },
      "execution_count": null,
      "outputs": []
    },
    {
      "cell_type": "code",
      "source": [
        "model_df.columns"
      ],
      "metadata": {
        "id": "OalNWyKWRqZQ"
      },
      "execution_count": null,
      "outputs": []
    },
    {
      "cell_type": "code",
      "source": [
        "ohe = OneHotEncoder(drop = 'first' , sparse = False)\n",
        "model_df['type_encoded'] = ohe.fit_transform(model_df[['type']])"
      ],
      "metadata": {
        "id": "jPE4GfLCXM5k"
      },
      "execution_count": null,
      "outputs": []
    },
    {
      "cell_type": "code",
      "source": [
        "model_df.sample(5)"
      ],
      "metadata": {
        "id": "tKfO-1V3X1xq"
      },
      "execution_count": null,
      "outputs": []
    },
    {
      "cell_type": "code",
      "source": [
        "x = model_df[['step', 'amount', 'oldbalanceOrg', 'newbalanceOrig', 'oldbalanceDest', 'newbalanceDest' , 'type_encoded']]\n",
        "y = model_df[['isFraud']]"
      ],
      "metadata": {
        "id": "LJQ8wTvmKmLR"
      },
      "execution_count": null,
      "outputs": []
    },
    {
      "cell_type": "markdown",
      "source": [
        "# Handling Class Imbalance"
      ],
      "metadata": {
        "id": "by9IBnWNhh7F"
      }
    },
    {
      "cell_type": "markdown",
      "source": [
        "## Undersampling"
      ],
      "metadata": {
        "id": "23BRYHZKhtsF"
      }
    },
    {
      "cell_type": "markdown",
      "source": [
        "Undersampling refers to a technique of reducing the number of observations in the majority class to balance the class distribution with the minority class. It involves removing some of the data points in the majority class until the number of observations in both classes becomes comparable."
      ],
      "metadata": {
        "id": "xtiIyZvFh-XT"
      }
    },
    {
      "cell_type": "markdown",
      "source": [
        "1. Random Undersampling"
      ],
      "metadata": {
        "id": "smrs17VfiGeH"
      }
    },
    {
      "cell_type": "code",
      "source": [
        "rus = RandomUnderSampler()\n",
        "x_rus , y_rus = rus.fit_resample(x,y)"
      ],
      "metadata": {
        "id": "r2KL2ZAMhVU5"
      },
      "execution_count": null,
      "outputs": []
    },
    {
      "cell_type": "code",
      "source": [
        "print('Comparing the classes in the original and modified dataset')\n",
        "print('------'*10)\n",
        "print('Original dataset :')\n",
        "print('---'*10)\n",
        "print(model_df.isFraud.value_counts(),'\\n')\n",
        "print('modified dataset :')\n",
        "print('---'*10)\n",
        "print(y_rus.value_counts())"
      ],
      "metadata": {
        "id": "Ggcij2_VhVSi"
      },
      "execution_count": null,
      "outputs": []
    },
    {
      "cell_type": "markdown",
      "source": [
        "2.One Sided Selection under-sampling"
      ],
      "metadata": {
        "id": "dI_wJ0RKsLDa"
      }
    },
    {
      "cell_type": "code",
      "source": [
        "oss  = OneSidedSelection(n_neighbors=1, n_seeds_S=200)\n",
        "x_oss , y_oss = oss.fit_resample(x, y)"
      ],
      "metadata": {
        "id": "jusOHul3jSco"
      },
      "execution_count": null,
      "outputs": []
    },
    {
      "cell_type": "code",
      "source": [
        "print('Comparing the classes in the original and modified dataset')\n",
        "print('------'*10)\n",
        "print('Original dataset :')\n",
        "print('---'*10)\n",
        "print(model_df.isFraud.value_counts(),'\\n')\n",
        "print('modified dataset :')\n",
        "print('---'*10)\n",
        "print(y_oss.value_counts())"
      ],
      "metadata": {
        "id": "y7V-YiXJjoyE"
      },
      "execution_count": null,
      "outputs": []
    },
    {
      "cell_type": "markdown",
      "source": [
        "## Oversampling"
      ],
      "metadata": {
        "id": "crXonALLspN8"
      }
    },
    {
      "cell_type": "markdown",
      "source": [
        "Oversampling is a method of increasing the number of instances in the minority class by creating additional copies of the existing data points. It is a suitable approach in cases where there is insufficient data available to build a model that can accurately capture the minority class."
      ],
      "metadata": {
        "id": "6-2akmkFs1Va"
      }
    },
    {
      "cell_type": "markdown",
      "source": [
        "1. Random Over Sampling"
      ],
      "metadata": {
        "id": "txfwNazQs2fd"
      }
    },
    {
      "cell_type": "code",
      "source": [
        "ros = RandomOverSampler()\n",
        "x_ros , y_ros = ros.fit_resample(x,y)"
      ],
      "metadata": {
        "id": "P9oajJghhVIG"
      },
      "execution_count": null,
      "outputs": []
    },
    {
      "cell_type": "code",
      "source": [
        "print('Comparing the classes in the original and modified dataset')\n",
        "print('------'*10)\n",
        "print('Original dataset :')\n",
        "print('---'*10)\n",
        "print(model_df.isFraud.value_counts(),'\\n')\n",
        "print('modified dataset :')\n",
        "print('---'*10)\n",
        "print(y_ros.value_counts())"
      ],
      "metadata": {
        "id": "Bq270C5jhVEJ"
      },
      "execution_count": null,
      "outputs": []
    },
    {
      "cell_type": "markdown",
      "source": [
        "2. SMOTE"
      ],
      "metadata": {
        "id": "W5tzVLMLteH0"
      }
    },
    {
      "cell_type": "code",
      "source": [
        "sm = SMOTE()\n",
        "x_smote , y_smote = sm.fit_resample(x,y)"
      ],
      "metadata": {
        "id": "rfGPu10VhVAo"
      },
      "execution_count": null,
      "outputs": []
    },
    {
      "cell_type": "code",
      "source": [
        "print('Comparing the classes in the original and modified dataset')\n",
        "print('------'*10)\n",
        "print('Original dataset :')\n",
        "print('---'*10)\n",
        "print(model_df.isFraud.value_counts(),'\\n')\n",
        "print('modified dataset :')\n",
        "print('---'*10)\n",
        "print(y_smote.value_counts())"
      ],
      "metadata": {
        "id": "pIozg-4vt1Zs"
      },
      "execution_count": null,
      "outputs": []
    },
    {
      "cell_type": "markdown",
      "source": [
        "## Combining Oversampling and Undersampling using SMOTE and Tomek links"
      ],
      "metadata": {
        "id": "2PKVvOdzuEm8"
      }
    },
    {
      "cell_type": "code",
      "source": [
        "st = SMOTETomek()\n",
        "x_combine , y_combine = st.fit_resample(x,y)"
      ],
      "metadata": {
        "id": "hiL09zjLuKHP"
      },
      "execution_count": null,
      "outputs": []
    },
    {
      "cell_type": "code",
      "source": [
        "print('Comparing the classes in the original and modified dataset')\n",
        "print('------'*10)\n",
        "print('Original dataset :')\n",
        "print('---'*10)\n",
        "print(model_df.isFraud.value_counts(),'\\n')\n",
        "print('modified dataset :')\n",
        "print('---'*10)\n",
        "print(y_combine.value_counts())"
      ],
      "metadata": {
        "id": "JRArZl9xueto"
      },
      "execution_count": null,
      "outputs": []
    },
    {
      "cell_type": "markdown",
      "source": [
        "# Experimental Setup and Training"
      ],
      "metadata": {
        "id": "zCJY1VWpurqN"
      }
    },
    {
      "cell_type": "code",
      "source": [
        "def training_model(x,y,model):\n",
        "\n",
        "  # SPLITTING DATA IN TRAINING AND TESTING SET\n",
        "  xtrain,xtest,ytrain,ytest = train_test_split(x,y,test_size = 0.2 , random_state = 45 , stratify = y)\n",
        "  print('Classes in training and test set after the split :')\n",
        "  print('==='*20)\n",
        "  print('training dataset')\n",
        "  print('==='*5)\n",
        "  print(ytrain.value_counts())\n",
        "  print('testing dataset')\n",
        "  print('==='*5)\n",
        "  print(ytest.value_counts() , '\\n')\n",
        "\n",
        "  # CREATING AND TRAINING MODEL\n",
        "  if model == 'lr':\n",
        "    classifier = LogisticRegression()\n",
        "  elif model == 'rf':\n",
        "    classifier = RandomForestClassifier(n_jobs = -1)\n",
        "  else:\n",
        "    classifier = BaggingClassifier()\n",
        "\n",
        "\n",
        "\n",
        "  skfold = StratifiedKFold(3)\n",
        "  trin_scr = cross_val_score(classifier , xtrain , ytrain , scoring = 'f1' , cv = skfold , n_jobs = -1 )\n",
        "  print('Perfomance on the training data = {}'.format(np.mean(trin_scr)))\n",
        "\n",
        "  classifier.fit(xtrain,ytrain)\n",
        "  ypred = classifier.predict(xtest)\n",
        "\n",
        "  # CLASSIFICATION REPORT\n",
        "  print('Classification Report for individual classes:')\n",
        "  print('==='*20)\n",
        "  print(classification_report(ytest , ypred) , '\\n')\n",
        "\n",
        "  # OVERALL MODEL SCORE\n",
        "  print('Scores for the overall model')\n",
        "  print('==='*20)\n",
        "  print('Precision = {}'.format(precision_score(ypred , ytest)))\n",
        "  print('Recall = {}'.format(recall_score(ytest , ypred)))\n",
        "  print('f1-score = {}'.format(f1_score(ytest , ypred)),'\\n')\n",
        "\n",
        "  # AREA UNDER CURVE\n",
        "  print('Area under the curve:')\n",
        "  print('==='*20)\n",
        "  print('AUC score = {}'.format(roc_auc_score(ytest , ypred)) , '\\n')\n",
        "\n",
        "  # PLOT CONFUSION MATRIX\n",
        "  print('Confusion matrix')\n",
        "  print('==='*20)\n",
        "  cm = confusion_matrix(ytest,ypred)\n",
        "  disp = ConfusionMatrixDisplay(confusion_matrix = cm , display_labels = classifier.classes_ )\n",
        "  disp.plot()\n",
        "  plt.show()"
      ],
      "metadata": {
        "id": "Ea_19vhLBx1T"
      },
      "execution_count": null,
      "outputs": []
    },
    {
      "cell_type": "code",
      "source": [
        "training_model(x,y,'lr')"
      ],
      "metadata": {
        "id": "c3ZaVitSF4bx"
      },
      "execution_count": null,
      "outputs": []
    },
    {
      "cell_type": "code",
      "source": [
        "training_model(x,y,'rf')"
      ],
      "metadata": {
        "id": "Iy6xwrDoGCMj"
      },
      "execution_count": null,
      "outputs": []
    },
    {
      "cell_type": "code",
      "source": [
        "training_model(x,y,'bc')"
      ],
      "metadata": {
        "id": "rWhRCRk4emTr"
      },
      "execution_count": null,
      "outputs": []
    },
    {
      "cell_type": "markdown",
      "source": [
        "#Under-Sampling"
      ],
      "metadata": {
        "id": "oj1BfF4DXQDj"
      }
    },
    {
      "cell_type": "code",
      "source": [
        "training_model(x_rus,y_rus,'lr')"
      ],
      "metadata": {
        "id": "ntPNC-Pbn3zL"
      },
      "execution_count": null,
      "outputs": []
    },
    {
      "cell_type": "code",
      "source": [
        "training_model(x_oss,y_oss,'lr')"
      ],
      "metadata": {
        "id": "A2hihRqSoZ2x"
      },
      "execution_count": null,
      "outputs": []
    },
    {
      "cell_type": "code",
      "source": [
        "training_model(x_rus,y_rus,'rf')"
      ],
      "metadata": {
        "id": "OFno5sQJpH8J"
      },
      "execution_count": null,
      "outputs": []
    },
    {
      "cell_type": "code",
      "source": [
        "training_model(x_oss,y_oss,'rf')"
      ],
      "metadata": {
        "id": "4rXO1P5bpNcJ"
      },
      "execution_count": null,
      "outputs": []
    },
    {
      "cell_type": "code",
      "source": [
        "training_model(x_rus,y_rus,'bc')"
      ],
      "metadata": {
        "id": "WytYbveIpSNt"
      },
      "execution_count": null,
      "outputs": []
    },
    {
      "cell_type": "code",
      "source": [
        "training_model(x_oss,y_oss,'bc')"
      ],
      "metadata": {
        "id": "qWQfpTijpXG4"
      },
      "execution_count": null,
      "outputs": []
    },
    {
      "cell_type": "markdown",
      "source": [
        "#Over-Sampling"
      ],
      "metadata": {
        "id": "VuhPuoIdXZZc"
      }
    },
    {
      "cell_type": "code",
      "source": [
        "training_model(x_ros,y_ros,'lr')"
      ],
      "metadata": {
        "id": "xRAOajB6rKlt"
      },
      "execution_count": null,
      "outputs": []
    },
    {
      "cell_type": "code",
      "source": [
        "training_model(x_smote,y_smote,'lr')"
      ],
      "metadata": {
        "id": "xEE6sw7MrPqF"
      },
      "execution_count": null,
      "outputs": []
    },
    {
      "cell_type": "code",
      "source": [
        "training_model(x_ros,y_ros,'rf')"
      ],
      "metadata": {
        "id": "qgqSgBRZrm1-"
      },
      "execution_count": null,
      "outputs": []
    },
    {
      "cell_type": "code",
      "source": [
        "training_model(x_smote,y_smote,'rf')"
      ],
      "metadata": {
        "id": "KZdKZv3vrr7q"
      },
      "execution_count": null,
      "outputs": []
    },
    {
      "cell_type": "code",
      "source": [
        "training_model(x_ros,y_ros,'bc')"
      ],
      "metadata": {
        "id": "vIAWyIXCrxtH"
      },
      "execution_count": null,
      "outputs": []
    },
    {
      "cell_type": "code",
      "source": [
        "training_model(x_smote,y_smote,'bc')"
      ],
      "metadata": {
        "id": "-ecbvtTDr2hV"
      },
      "execution_count": null,
      "outputs": []
    },
    {
      "cell_type": "markdown",
      "source": [
        "# Combining Oversampling and Undersampling SMOTE and Tomek links"
      ],
      "metadata": {
        "id": "aakiNR4zHZ5U"
      }
    },
    {
      "cell_type": "code",
      "source": [
        "training_model(x_combine , y_combine , 'lr')"
      ],
      "metadata": {
        "id": "6p5VwOJz0FDb"
      },
      "execution_count": null,
      "outputs": []
    },
    {
      "cell_type": "code",
      "source": [
        "training_model(x_combine , y_combine , 'rf')"
      ],
      "metadata": {
        "id": "9Bf1Syp60DhV"
      },
      "execution_count": null,
      "outputs": []
    },
    {
      "cell_type": "code",
      "source": [
        "training_model(x_combine , y_combine , 'bc')"
      ],
      "metadata": {
        "id": "aCtKujcY0B0g"
      },
      "execution_count": null,
      "outputs": []
    }
  ]
}